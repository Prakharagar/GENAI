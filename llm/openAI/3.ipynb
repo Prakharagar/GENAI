{
 "cells": [
  {
   "cell_type": "code",
   "execution_count": 1,
   "metadata": {},
   "outputs": [
    {
     "name": "stdout",
     "output_type": "stream",
     "text": [
      "ChatCompletion(id='chatcmpl-9yDNDwgToAbGzVRJJnxYN5OiVxIBw', choices=[Choice(finish_reason='length', index=0, logprobs=ChoiceLogprobs(content=[ChatCompletionTokenLogprob(token='To', bytes=[84, 111], logprob=-0.17733912, top_logprobs=[]), ChatCompletionTokenLogprob(token=' calculate', bytes=[32, 99, 97, 108, 99, 117, 108, 97, 116, 101], logprob=-0.033543576, top_logprobs=[]), ChatCompletionTokenLogprob(token=' the', bytes=[32, 116, 104, 101], logprob=-0.061497774, top_logprobs=[]), ChatCompletionTokenLogprob(token=' monthly', bytes=[32, 109, 111, 110, 116, 104, 108, 121], logprob=-0.354502, top_logprobs=[]), ChatCompletionTokenLogprob(token=' in', bytes=[32, 105, 110], logprob=-0.071509615, top_logprobs=[]), ChatCompletionTokenLogprob(token='-hand', bytes=[45, 104, 97, 110, 100], logprob=-0.030136548, top_logprobs=[]), ChatCompletionTokenLogprob(token=' salary', bytes=[32, 115, 97, 108, 97, 114, 121], logprob=-0.00021140782, top_logprobs=[]), ChatCompletionTokenLogprob(token=' from', bytes=[32, 102, 114, 111, 109], logprob=-0.35071036, top_logprobs=[]), ChatCompletionTokenLogprob(token=' an', bytes=[32, 97, 110], logprob=-0.0035817763, top_logprobs=[]), ChatCompletionTokenLogprob(token=' annual', bytes=[32, 97, 110, 110, 117, 97, 108], logprob=-1.0802739e-05, top_logprobs=[]), ChatCompletionTokenLogprob(token=' income', bytes=[32, 105, 110, 99, 111, 109, 101], logprob=-0.018633068, top_logprobs=[]), ChatCompletionTokenLogprob(token=' of', bytes=[32, 111, 102], logprob=-0.001990017, top_logprobs=[]), ChatCompletionTokenLogprob(token=' ', bytes=[32], logprob=-0.06531495, top_logprobs=[]), ChatCompletionTokenLogprob(token='60', bytes=[54, 48], logprob=-3.5313153e-06, top_logprobs=[]), ChatCompletionTokenLogprob(token=' lakh', bytes=[32, 108, 97, 107, 104], logprob=-0.05847448, top_logprobs=[]), ChatCompletionTokenLogprob(token=',', bytes=[44], logprob=-0.27973658, top_logprobs=[]), ChatCompletionTokenLogprob(token=' we', bytes=[32, 119, 101], logprob=-0.03788574, top_logprobs=[]), ChatCompletionTokenLogprob(token=' need', bytes=[32, 110, 101, 101, 100], logprob=-0.34671518, top_logprobs=[]), ChatCompletionTokenLogprob(token=' to', bytes=[32, 116, 111], logprob=-2.4391957e-05, top_logprobs=[]), ChatCompletionTokenLogprob(token=' consider', bytes=[32, 99, 111, 110, 115, 105, 100, 101, 114], logprob=-0.27476916, top_logprobs=[])], refusal=None), message=ChatCompletionMessage(content='To calculate the monthly in-hand salary from an annual income of 60 lakh, we need to consider', refusal=None, role='assistant', function_call=None, tool_calls=None)), Choice(finish_reason='length', index=1, logprobs=ChoiceLogprobs(content=[ChatCompletionTokenLogprob(token='To', bytes=[84, 111], logprob=-0.17733912, top_logprobs=[]), ChatCompletionTokenLogprob(token=' calculate', bytes=[32, 99, 97, 108, 99, 117, 108, 97, 116, 101], logprob=-0.033543576, top_logprobs=[]), ChatCompletionTokenLogprob(token=' the', bytes=[32, 116, 104, 101], logprob=-0.061497774, top_logprobs=[]), ChatCompletionTokenLogprob(token=' monthly', bytes=[32, 109, 111, 110, 116, 104, 108, 121], logprob=-0.354502, top_logprobs=[]), ChatCompletionTokenLogprob(token=' in', bytes=[32, 105, 110], logprob=-0.071509615, top_logprobs=[]), ChatCompletionTokenLogprob(token='-hand', bytes=[45, 104, 97, 110, 100], logprob=-0.030136548, top_logprobs=[]), ChatCompletionTokenLogprob(token=' salary', bytes=[32, 115, 97, 108, 97, 114, 121], logprob=-0.00021140782, top_logprobs=[]), ChatCompletionTokenLogprob(token=' from', bytes=[32, 102, 114, 111, 109], logprob=-0.35071036, top_logprobs=[]), ChatCompletionTokenLogprob(token=' an', bytes=[32, 97, 110], logprob=-0.0035817763, top_logprobs=[]), ChatCompletionTokenLogprob(token=' annual', bytes=[32, 97, 110, 110, 117, 97, 108], logprob=-1.0802739e-05, top_logprobs=[]), ChatCompletionTokenLogprob(token=' income', bytes=[32, 105, 110, 99, 111, 109, 101], logprob=-0.018633068, top_logprobs=[]), ChatCompletionTokenLogprob(token=' of', bytes=[32, 111, 102], logprob=-0.001990017, top_logprobs=[]), ChatCompletionTokenLogprob(token=' ', bytes=[32], logprob=-0.06531495, top_logprobs=[]), ChatCompletionTokenLogprob(token='60', bytes=[54, 48], logprob=-3.5313153e-06, top_logprobs=[]), ChatCompletionTokenLogprob(token=' lakh', bytes=[32, 108, 97, 107, 104], logprob=-0.05847448, top_logprobs=[]), ChatCompletionTokenLogprob(token=',', bytes=[44], logprob=-0.27973658, top_logprobs=[]), ChatCompletionTokenLogprob(token=' we', bytes=[32, 119, 101], logprob=-0.03788574, top_logprobs=[]), ChatCompletionTokenLogprob(token=' need', bytes=[32, 110, 101, 101, 100], logprob=-0.34671518, top_logprobs=[]), ChatCompletionTokenLogprob(token=' to', bytes=[32, 116, 111], logprob=-2.4391957e-05, top_logprobs=[]), ChatCompletionTokenLogprob(token=' consider', bytes=[32, 99, 111, 110, 115, 105, 100, 101, 114], logprob=-0.27476916, top_logprobs=[])], refusal=None), message=ChatCompletionMessage(content='To calculate the monthly in-hand salary from an annual income of 60 lakh, we need to consider', refusal=None, role='assistant', function_call=None, tool_calls=None)), Choice(finish_reason='length', index=2, logprobs=ChoiceLogprobs(content=[ChatCompletionTokenLogprob(token='To', bytes=[84, 111], logprob=-0.17733912, top_logprobs=[]), ChatCompletionTokenLogprob(token=' calculate', bytes=[32, 99, 97, 108, 99, 117, 108, 97, 116, 101], logprob=-0.033543576, top_logprobs=[]), ChatCompletionTokenLogprob(token=' the', bytes=[32, 116, 104, 101], logprob=-0.061497774, top_logprobs=[]), ChatCompletionTokenLogprob(token=' monthly', bytes=[32, 109, 111, 110, 116, 104, 108, 121], logprob=-0.354502, top_logprobs=[]), ChatCompletionTokenLogprob(token=' in', bytes=[32, 105, 110], logprob=-0.071509615, top_logprobs=[]), ChatCompletionTokenLogprob(token='-hand', bytes=[45, 104, 97, 110, 100], logprob=-0.030136548, top_logprobs=[]), ChatCompletionTokenLogprob(token=' salary', bytes=[32, 115, 97, 108, 97, 114, 121], logprob=-0.00021140782, top_logprobs=[]), ChatCompletionTokenLogprob(token=' from', bytes=[32, 102, 114, 111, 109], logprob=-0.35071036, top_logprobs=[]), ChatCompletionTokenLogprob(token=' an', bytes=[32, 97, 110], logprob=-0.0035817763, top_logprobs=[]), ChatCompletionTokenLogprob(token=' annual', bytes=[32, 97, 110, 110, 117, 97, 108], logprob=-1.0802739e-05, top_logprobs=[]), ChatCompletionTokenLogprob(token=' income', bytes=[32, 105, 110, 99, 111, 109, 101], logprob=-0.018633068, top_logprobs=[]), ChatCompletionTokenLogprob(token=' of', bytes=[32, 111, 102], logprob=-0.001990017, top_logprobs=[]), ChatCompletionTokenLogprob(token=' ', bytes=[32], logprob=-0.06531495, top_logprobs=[]), ChatCompletionTokenLogprob(token='60', bytes=[54, 48], logprob=-3.5313153e-06, top_logprobs=[]), ChatCompletionTokenLogprob(token=' lakh', bytes=[32, 108, 97, 107, 104], logprob=-0.05847448, top_logprobs=[]), ChatCompletionTokenLogprob(token=',', bytes=[44], logprob=-0.27973658, top_logprobs=[]), ChatCompletionTokenLogprob(token=' we', bytes=[32, 119, 101], logprob=-0.03788574, top_logprobs=[]), ChatCompletionTokenLogprob(token=' need', bytes=[32, 110, 101, 101, 100], logprob=-0.34671518, top_logprobs=[]), ChatCompletionTokenLogprob(token=' to', bytes=[32, 116, 111], logprob=-2.4391957e-05, top_logprobs=[]), ChatCompletionTokenLogprob(token=' consider', bytes=[32, 99, 111, 110, 115, 105, 100, 101, 114], logprob=-0.27476916, top_logprobs=[])], refusal=None), message=ChatCompletionMessage(content='To calculate the monthly in-hand salary from an annual income of 60 lakh, we need to consider', refusal=None, role='assistant', function_call=None, tool_calls=None)), Choice(finish_reason='length', index=3, logprobs=ChoiceLogprobs(content=[ChatCompletionTokenLogprob(token='To', bytes=[84, 111], logprob=-0.17733912, top_logprobs=[]), ChatCompletionTokenLogprob(token=' calculate', bytes=[32, 99, 97, 108, 99, 117, 108, 97, 116, 101], logprob=-0.033543576, top_logprobs=[]), ChatCompletionTokenLogprob(token=' the', bytes=[32, 116, 104, 101], logprob=-0.061497774, top_logprobs=[]), ChatCompletionTokenLogprob(token=' monthly', bytes=[32, 109, 111, 110, 116, 104, 108, 121], logprob=-0.354502, top_logprobs=[]), ChatCompletionTokenLogprob(token=' in', bytes=[32, 105, 110], logprob=-0.071509615, top_logprobs=[]), ChatCompletionTokenLogprob(token='-hand', bytes=[45, 104, 97, 110, 100], logprob=-0.030136548, top_logprobs=[]), ChatCompletionTokenLogprob(token=' salary', bytes=[32, 115, 97, 108, 97, 114, 121], logprob=-0.00021140782, top_logprobs=[]), ChatCompletionTokenLogprob(token=' from', bytes=[32, 102, 114, 111, 109], logprob=-0.35071036, top_logprobs=[]), ChatCompletionTokenLogprob(token=' an', bytes=[32, 97, 110], logprob=-0.0035817763, top_logprobs=[]), ChatCompletionTokenLogprob(token=' annual', bytes=[32, 97, 110, 110, 117, 97, 108], logprob=-1.0802739e-05, top_logprobs=[]), ChatCompletionTokenLogprob(token=' income', bytes=[32, 105, 110, 99, 111, 109, 101], logprob=-0.018633068, top_logprobs=[]), ChatCompletionTokenLogprob(token=' of', bytes=[32, 111, 102], logprob=-0.001990017, top_logprobs=[]), ChatCompletionTokenLogprob(token=' ', bytes=[32], logprob=-0.06531495, top_logprobs=[]), ChatCompletionTokenLogprob(token='60', bytes=[54, 48], logprob=-3.5313153e-06, top_logprobs=[]), ChatCompletionTokenLogprob(token=' lakh', bytes=[32, 108, 97, 107, 104], logprob=-0.05847448, top_logprobs=[]), ChatCompletionTokenLogprob(token=',', bytes=[44], logprob=-0.27973658, top_logprobs=[]), ChatCompletionTokenLogprob(token=' we', bytes=[32, 119, 101], logprob=-0.03788574, top_logprobs=[]), ChatCompletionTokenLogprob(token=' need', bytes=[32, 110, 101, 101, 100], logprob=-0.34671518, top_logprobs=[]), ChatCompletionTokenLogprob(token=' to', bytes=[32, 116, 111], logprob=-2.4391957e-05, top_logprobs=[]), ChatCompletionTokenLogprob(token=' consider', bytes=[32, 99, 111, 110, 115, 105, 100, 101, 114], logprob=-0.27476916, top_logprobs=[])], refusal=None), message=ChatCompletionMessage(content='To calculate the monthly in-hand salary from an annual income of 60 lakh, we need to consider', refusal=None, role='assistant', function_call=None, tool_calls=None)), Choice(finish_reason='length', index=4, logprobs=ChoiceLogprobs(content=[ChatCompletionTokenLogprob(token='To', bytes=[84, 111], logprob=-0.17733912, top_logprobs=[]), ChatCompletionTokenLogprob(token=' calculate', bytes=[32, 99, 97, 108, 99, 117, 108, 97, 116, 101], logprob=-0.033543576, top_logprobs=[]), ChatCompletionTokenLogprob(token=' the', bytes=[32, 116, 104, 101], logprob=-0.061497774, top_logprobs=[]), ChatCompletionTokenLogprob(token=' monthly', bytes=[32, 109, 111, 110, 116, 104, 108, 121], logprob=-0.354502, top_logprobs=[]), ChatCompletionTokenLogprob(token=' in', bytes=[32, 105, 110], logprob=-0.071509615, top_logprobs=[]), ChatCompletionTokenLogprob(token='-hand', bytes=[45, 104, 97, 110, 100], logprob=-0.030136548, top_logprobs=[]), ChatCompletionTokenLogprob(token=' salary', bytes=[32, 115, 97, 108, 97, 114, 121], logprob=-0.00021140782, top_logprobs=[]), ChatCompletionTokenLogprob(token=' from', bytes=[32, 102, 114, 111, 109], logprob=-0.35071036, top_logprobs=[]), ChatCompletionTokenLogprob(token=' an', bytes=[32, 97, 110], logprob=-0.0035817763, top_logprobs=[]), ChatCompletionTokenLogprob(token=' annual', bytes=[32, 97, 110, 110, 117, 97, 108], logprob=-1.0802739e-05, top_logprobs=[]), ChatCompletionTokenLogprob(token=' income', bytes=[32, 105, 110, 99, 111, 109, 101], logprob=-0.018633068, top_logprobs=[]), ChatCompletionTokenLogprob(token=' of', bytes=[32, 111, 102], logprob=-0.001990017, top_logprobs=[]), ChatCompletionTokenLogprob(token=' ', bytes=[32], logprob=-0.06531495, top_logprobs=[]), ChatCompletionTokenLogprob(token='60', bytes=[54, 48], logprob=-3.5313153e-06, top_logprobs=[]), ChatCompletionTokenLogprob(token=' lakh', bytes=[32, 108, 97, 107, 104], logprob=-0.05847448, top_logprobs=[]), ChatCompletionTokenLogprob(token=',', bytes=[44], logprob=-0.27973658, top_logprobs=[]), ChatCompletionTokenLogprob(token=' we', bytes=[32, 119, 101], logprob=-0.03788574, top_logprobs=[]), ChatCompletionTokenLogprob(token=' need', bytes=[32, 110, 101, 101, 100], logprob=-0.34671518, top_logprobs=[]), ChatCompletionTokenLogprob(token=' to', bytes=[32, 116, 111], logprob=-2.4391957e-05, top_logprobs=[]), ChatCompletionTokenLogprob(token=' consider', bytes=[32, 99, 111, 110, 115, 105, 100, 101, 114], logprob=-0.27476916, top_logprobs=[])], refusal=None), message=ChatCompletionMessage(content='To calculate the monthly in-hand salary from an annual income of 60 lakh, we need to consider', refusal=None, role='assistant', function_call=None, tool_calls=None))], created=1724138115, model='gpt-3.5-turbo-0125', object='chat.completion', service_tier=None, system_fingerprint=None, usage=CompletionUsage(completion_tokens=100, prompt_tokens=40, total_tokens=140))\n"
     ]
    }
   ],
   "source": [
    "from openai import OpenAI\n",
    "from dotenv import load_dotenv\n",
    "import os\n",
    "import pandas as pd\n",
    "\n",
    "load_dotenv()\n",
    "project_id='proj_XUmebccsti62Gor5BRpQS0C3'\n",
    "org_id='org-8XwQuUkcdwOPFzPXvmJFEDhE'\n",
    "model_name=os.getenv('model_name')\n",
    "client=OpenAI(api_key=os.getenv('token'),\n",
    "              project=os.getenv('project_id'),\n",
    "              organization=os.getenv('org_id')\n",
    ")\n",
    "prompt=[\n",
    "    { \"role\":\"system\",\n",
    "     \"content\":\"you act as a financial advisor of India.\"\n",
    "    },\n",
    "    {\n",
    "        \"role\":\"user\",\n",
    "        \"content\": \"tell me what woill be the in hand monthly salary if your income is 60 lakh per annum\"\n",
    "    }\n",
    "]\n",
    "datas=client.chat.completions.create(\n",
    "    \n",
    "    model=model_name,\n",
    "    messages=prompt,\n",
    "    n=5,\n",
    "    max_tokens=20,\n",
    "    temperature=0.1,\n",
    "    logprobs=True,\n",
    "    \n",
    "\n",
    ")\n",
    "print(datas)\n",
    "\n",
    "\n",
    "\n",
    "\n"
   ]
  },
  {
   "cell_type": "code",
   "execution_count": 17,
   "metadata": {},
   "outputs": [
    {
     "name": "stdout",
     "output_type": "stream",
     "text": [
      "         token                                          bytes   logprob  \\\n",
      "0           To                                      [84, 111] -0.177339   \n",
      "1    calculate  [32, 99, 97, 108, 99, 117, 108, 97, 116, 101] -0.033544   \n",
      "2          the                            [32, 116, 104, 101] -0.061498   \n",
      "3      monthly        [32, 109, 111, 110, 116, 104, 108, 121] -0.354502   \n",
      "4           in                                 [32, 105, 110] -0.071510   \n",
      "..         ...                                            ...       ...   \n",
      "95           ,                                           [44] -0.279737   \n",
      "96          we                                 [32, 119, 101] -0.037886   \n",
      "97        need                       [32, 110, 101, 101, 100] -0.346715   \n",
      "98          to                                 [32, 116, 111] -0.000024   \n",
      "99    consider    [32, 99, 111, 110, 115, 105, 100, 101, 114] -0.274769   \n",
      "\n",
      "   top_logprobs  \n",
      "0            []  \n",
      "1            []  \n",
      "2            []  \n",
      "3            []  \n",
      "4            []  \n",
      "..          ...  \n",
      "95           []  \n",
      "96           []  \n",
      "97           []  \n",
      "98           []  \n",
      "99           []  \n",
      "\n",
      "[100 rows x 4 columns]\n"
     ]
    }
   ],
   "source": [
    "data = []\n",
    "for choice in datas.choices:\n",
    "    for token in choice.logprobs.content:\n",
    "        data.append({\n",
    "            'token': token.token,\n",
    "            'bytes': token.bytes,\n",
    "            'logprob': token.logprob,\n",
    "            'top_logprobs': token.top_logprobs\n",
    "        })\n",
    "\n",
    "# Create a DataFrame from the extracted data\n",
    "df = pd.DataFrame(data)\n",
    "print(df)"
   ]
  },
  {
   "cell_type": "code",
   "execution_count": 20,
   "metadata": {},
   "outputs": [
    {
     "name": "stdout",
     "output_type": "stream",
     "text": [
      "\n",
      "DataFrame with input and output messages:\n",
      "                     input                                             output\n",
      "0  Your input message here  To calculate the monthly in-hand salary from a...\n"
     ]
    }
   ],
   "source": [
    "# Extract input and output messages\n",
    "input_message = \"Your input message here\"  # Replace with the actual input message\n",
    "output_message = datas.choices[0].message.content\n",
    "\n",
    "# Create a DataFrame for input and output messages\n",
    "df_input_output = pd.DataFrame([{\n",
    "    'input': input_message,\n",
    "    'output': output_message\n",
    "}])\n",
    "\n",
    "# Display the DataFrame with input and output\n",
    "print(\"\\nDataFrame with input and output messages:\")\n",
    "print(df_input_output)"
   ]
  }
 ],
 "metadata": {
  "kernelspec": {
   "display_name": "myenv",
   "language": "python",
   "name": "python3"
  },
  "language_info": {
   "codemirror_mode": {
    "name": "ipython",
    "version": 3
   },
   "file_extension": ".py",
   "mimetype": "text/x-python",
   "name": "python",
   "nbconvert_exporter": "python",
   "pygments_lexer": "ipython3",
   "version": "3.12.5"
  }
 },
 "nbformat": 4,
 "nbformat_minor": 2
}
