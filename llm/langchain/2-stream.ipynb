{
 "cells": [
  {
   "cell_type": "code",
   "execution_count": 5,
   "metadata": {},
   "outputs": [],
   "source": [
    "from langchain_openai import ChatOpenAI\n",
    "from dotenv import load_dotenv\n",
    "import os\n",
    "load_dotenv()\n",
    "token=os.getenv('token')\n",
    "model_name=os.getenv('model_name')\n",
    "model=ChatOpenAI(api_key=token,model=model_name,max_tokens=10)"
   ]
  },
  {
   "cell_type": "code",
   "execution_count": 7,
   "metadata": {},
   "outputs": [
    {
     "name": "stdout",
     "output_type": "stream",
     "text": [
      " The  color  of  the  sky  can  vary  depending  on  the  "
     ]
    }
   ],
   "source": [
    "chunks = []\n",
    "for chunk in model.stream(\"what color is the sky?\"):\n",
    "    chunks.append(chunk)\n",
    "    print(chunk.content, end=\" \", flush=True)"
   ]
  },
  {
   "cell_type": "code",
   "execution_count": 8,
   "metadata": {},
   "outputs": [
    {
     "data": {
      "text/plain": [
       "[AIMessageChunk(content='', id='run-d3841c55-6ace-4673-80f5-ee6785b42ffd'),\n",
       " AIMessageChunk(content='The', id='run-d3841c55-6ace-4673-80f5-ee6785b42ffd'),\n",
       " AIMessageChunk(content=' color', id='run-d3841c55-6ace-4673-80f5-ee6785b42ffd'),\n",
       " AIMessageChunk(content=' of', id='run-d3841c55-6ace-4673-80f5-ee6785b42ffd'),\n",
       " AIMessageChunk(content=' the', id='run-d3841c55-6ace-4673-80f5-ee6785b42ffd'),\n",
       " AIMessageChunk(content=' sky', id='run-d3841c55-6ace-4673-80f5-ee6785b42ffd'),\n",
       " AIMessageChunk(content=' can', id='run-d3841c55-6ace-4673-80f5-ee6785b42ffd'),\n",
       " AIMessageChunk(content=' vary', id='run-d3841c55-6ace-4673-80f5-ee6785b42ffd'),\n",
       " AIMessageChunk(content=' depending', id='run-d3841c55-6ace-4673-80f5-ee6785b42ffd'),\n",
       " AIMessageChunk(content=' on', id='run-d3841c55-6ace-4673-80f5-ee6785b42ffd'),\n",
       " AIMessageChunk(content=' the', id='run-d3841c55-6ace-4673-80f5-ee6785b42ffd'),\n",
       " AIMessageChunk(content='', response_metadata={'finish_reason': 'length', 'model_name': 'gpt-3.5-turbo-0125'}, id='run-d3841c55-6ace-4673-80f5-ee6785b42ffd')]"
      ]
     },
     "execution_count": 8,
     "metadata": {},
     "output_type": "execute_result"
    }
   ],
   "source": [
    "chunks"
   ]
  },
  {
   "cell_type": "code",
   "execution_count": 10,
   "metadata": {},
   "outputs": [
    {
     "name": "stdout",
     "output_type": "stream",
     "text": [
      " The  color  of  the  sky  can  vary  depending  on  the  "
     ]
    }
   ],
   "source": [
    "chunks = []\n",
    "async for chunk in model.astream(\"what color is the sky?\"):\n",
    "    chunks.append(chunk)\n",
    "    print(chunk.content, end=\" \", flush=True)"
   ]
  },
  {
   "cell_type": "code",
   "execution_count": 11,
   "metadata": {},
   "outputs": [
    {
     "data": {
      "text/plain": [
       "[AIMessageChunk(content='', id='run-f0aecf10-3c4e-4c6c-a156-ba5591d76c72'),\n",
       " AIMessageChunk(content='The', id='run-f0aecf10-3c4e-4c6c-a156-ba5591d76c72'),\n",
       " AIMessageChunk(content=' color', id='run-f0aecf10-3c4e-4c6c-a156-ba5591d76c72'),\n",
       " AIMessageChunk(content=' of', id='run-f0aecf10-3c4e-4c6c-a156-ba5591d76c72'),\n",
       " AIMessageChunk(content=' the', id='run-f0aecf10-3c4e-4c6c-a156-ba5591d76c72'),\n",
       " AIMessageChunk(content=' sky', id='run-f0aecf10-3c4e-4c6c-a156-ba5591d76c72'),\n",
       " AIMessageChunk(content=' can', id='run-f0aecf10-3c4e-4c6c-a156-ba5591d76c72'),\n",
       " AIMessageChunk(content=' vary', id='run-f0aecf10-3c4e-4c6c-a156-ba5591d76c72'),\n",
       " AIMessageChunk(content=' depending', id='run-f0aecf10-3c4e-4c6c-a156-ba5591d76c72'),\n",
       " AIMessageChunk(content=' on', id='run-f0aecf10-3c4e-4c6c-a156-ba5591d76c72'),\n",
       " AIMessageChunk(content=' the', id='run-f0aecf10-3c4e-4c6c-a156-ba5591d76c72'),\n",
       " AIMessageChunk(content='', response_metadata={'finish_reason': 'length', 'model_name': 'gpt-3.5-turbo-0125'}, id='run-f0aecf10-3c4e-4c6c-a156-ba5591d76c72')]"
      ]
     },
     "execution_count": 11,
     "metadata": {},
     "output_type": "execute_result"
    }
   ],
   "source": [
    "chunks"
   ]
  },
  {
   "cell_type": "code",
   "execution_count": 16,
   "metadata": {},
   "outputs": [
    {
     "name": "stdout",
     "output_type": "stream",
     "text": [
      " Why  did  the  manager  bring  a  ladder  to  work ?  "
     ]
    }
   ],
   "source": [
    "from langchain_core.output_parsers import StrOutputParser\n",
    "from langchain_core.prompts import ChatPromptTemplate\n",
    "\n",
    "prompt=ChatPromptTemplate.from_template(\"tell me a joke on topic {topic}\")\n",
    "parser=StrOutputParser()\n",
    "chain=prompt|model|parser\n",
    "async for chunk in chain.astream({\"topic\":\"manager\"}):\n",
    "    print(chunk, end=\" \", flush=True)"
   ]
  },
  {
   "cell_type": "code",
   "execution_count": 17,
   "metadata": {},
   "outputs": [
    {
     "name": "stdout",
     "output_type": "stream",
     "text": [
      " Why  did  the  manager  bring  a  ladder  to  work ?  "
     ]
    }
   ],
   "source": [
    "for chunk in chain.stream({\"topic\":\"manager\"}):\n",
    "    print(chunk, end=\" \", flush=True)"
   ]
  }
 ],
 "metadata": {
  "kernelspec": {
   "display_name": "myenv",
   "language": "python",
   "name": "python3"
  },
  "language_info": {
   "codemirror_mode": {
    "name": "ipython",
    "version": 3
   },
   "file_extension": ".py",
   "mimetype": "text/x-python",
   "name": "python",
   "nbconvert_exporter": "python",
   "pygments_lexer": "ipython3",
   "version": "3.12.5"
  }
 },
 "nbformat": 4,
 "nbformat_minor": 2
}
